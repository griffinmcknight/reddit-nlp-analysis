{
 "cells": [
  {
   "cell_type": "markdown",
   "id": "e919e4ad-261c-421c-90e4-3ca06d480f05",
   "metadata": {},
   "source": [
    "# Topic Modeling\n",
    "1. Latent Dirichlet Allocation (LDA): Use LDA or another topic modeling technique to uncover common topics within posts or comments. This helps identify key discussion areas (e.g., “politics,” “tech innovations”) and emerging topics.\n",
    "2. Subreddit-Specific Topics: Apply topic modeling within each subreddit to understand distinct themes of discussion per community.\n",
    "3. Trending Topics: Track the frequency of certain topics over time to identify emerging trends or issues."
   ]
  },
  {
   "cell_type": "code",
   "execution_count": null,
   "id": "2f9349b8-deaf-42e1-a629-48a8865841f2",
   "metadata": {},
   "outputs": [],
   "source": []
  }
 ],
 "metadata": {
  "kernelspec": {
   "display_name": "Reddit NLP Analysis",
   "language": "python",
   "name": "reddit_nlp_analysis"
  },
  "language_info": {
   "codemirror_mode": {
    "name": "ipython",
    "version": 3
   },
   "file_extension": ".py",
   "mimetype": "text/x-python",
   "name": "python",
   "nbconvert_exporter": "python",
   "pygments_lexer": "ipython3",
   "version": "3.9.20"
  }
 },
 "nbformat": 4,
 "nbformat_minor": 5
}
