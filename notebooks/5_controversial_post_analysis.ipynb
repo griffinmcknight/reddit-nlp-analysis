{
 "cells": [
  {
   "cell_type": "markdown",
   "id": "affb1f3c-92f9-4115-90e3-3888b9be8c68",
   "metadata": {},
   "source": [
    "# Controversial Post Analysis\n",
    "1. Controversiality Index: Reddit has a \"controversial\" flag you can use or create your own measure based on vote distribution. Study controversial posts to understand factors that drive divisive discussions.\n",
    "2. Sentiment and Engagement on Controversial Posts: Analyze sentiment and engagement (upvotes, downvotes, and comments) on controversial posts to see how they differ from non-controversial ones.\n",
    "3. Keyword Analysis: Identify common keywords or topics associated with controversial posts and compare them to popular or highly upvoted posts."
   ]
  },
  {
   "cell_type": "code",
   "execution_count": null,
   "id": "7d3f714f-478f-403e-815d-624dd88b2173",
   "metadata": {},
   "outputs": [],
   "source": []
  }
 ],
 "metadata": {
  "kernelspec": {
   "display_name": "Reddit NLP Analysis",
   "language": "python",
   "name": "reddit_nlp_analysis"
  },
  "language_info": {
   "codemirror_mode": {
    "name": "ipython",
    "version": 3
   },
   "file_extension": ".py",
   "mimetype": "text/x-python",
   "name": "python",
   "nbconvert_exporter": "python",
   "pygments_lexer": "ipython3",
   "version": "3.9.20"
  }
 },
 "nbformat": 4,
 "nbformat_minor": 5
}
